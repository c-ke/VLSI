{
 "cells": [
  {
   "cell_type": "markdown",
   "metadata": {},
   "source": [
    "BUILDING AND TRAINING THE MODEL."
   ]
  },
  {
   "cell_type": "code",
   "execution_count": 92,
   "metadata": {},
   "outputs": [],
   "source": [
    "# ALL the libraries to be imported.\n",
    "import numpy as np\n",
    "import pandas as pd\n",
    "import matplotlib.pyplot as plt\n",
    "from sklearn.preprocessing import MinMaxScaler\n",
    "from sklearn.ensemble import RandomForestClassifier\n",
    "from sklearn.model_selection import train_test_split\n",
    "from sklearn.preprocessing import StandardScaler\n",
    "from sklearn.metrics import accuracy_score\n",
    "import pickle\n",
    "import os\n",
    "os.chdir(\"/home/chaitanya/Downloads/VLSI\")"
   ]
  },
  {
   "cell_type": "code",
   "execution_count": 93,
   "metadata": {},
   "outputs": [
    {
     "data": {
      "text/html": [
       "<div>\n",
       "<style scoped>\n",
       "    .dataframe tbody tr th:only-of-type {\n",
       "        vertical-align: middle;\n",
       "    }\n",
       "\n",
       "    .dataframe tbody tr th {\n",
       "        vertical-align: top;\n",
       "    }\n",
       "\n",
       "    .dataframe thead th {\n",
       "        text-align: right;\n",
       "    }\n",
       "</style>\n",
       "<table border=\"1\" class=\"dataframe\">\n",
       "  <thead>\n",
       "    <tr style=\"text-align: right;\">\n",
       "      <th></th>\n",
       "      <th>ACTIVITY</th>\n",
       "      <th>BP</th>\n",
       "      <th>HR</th>\n",
       "      <th>CIRCLUATION</th>\n",
       "    </tr>\n",
       "  </thead>\n",
       "  <tbody>\n",
       "    <tr>\n",
       "      <th>0</th>\n",
       "      <td>3</td>\n",
       "      <td>13</td>\n",
       "      <td>79</td>\n",
       "      <td>317</td>\n",
       "    </tr>\n",
       "    <tr>\n",
       "      <th>1</th>\n",
       "      <td>2</td>\n",
       "      <td>20</td>\n",
       "      <td>54</td>\n",
       "      <td>165</td>\n",
       "    </tr>\n",
       "    <tr>\n",
       "      <th>2</th>\n",
       "      <td>2</td>\n",
       "      <td>46</td>\n",
       "      <td>67</td>\n",
       "      <td>224</td>\n",
       "    </tr>\n",
       "    <tr>\n",
       "      <th>3</th>\n",
       "      <td>4</td>\n",
       "      <td>26</td>\n",
       "      <td>138</td>\n",
       "      <td>554</td>\n",
       "    </tr>\n",
       "    <tr>\n",
       "      <th>4</th>\n",
       "      <td>4</td>\n",
       "      <td>85</td>\n",
       "      <td>120</td>\n",
       "      <td>809</td>\n",
       "    </tr>\n",
       "  </tbody>\n",
       "</table>\n",
       "</div>"
      ],
      "text/plain": [
       "   ACTIVITY  BP   HR  CIRCLUATION\n",
       "0         3  13   79          317\n",
       "1         2  20   54          165\n",
       "2         2  46   67          224\n",
       "3         4  26  138          554\n",
       "4         4  85  120          809"
      ]
     },
     "execution_count": 93,
     "metadata": {},
     "output_type": "execute_result"
    }
   ],
   "source": [
    "# Reading the excel file in terms of .csv\n",
    "data = pd.read_csv(\"falldeteciton.csv\")\n",
    "data.head()"
   ]
  },
  {
   "cell_type": "code",
   "execution_count": null,
   "metadata": {},
   "outputs": [],
   "source": [
    "AS YOU SEE IN THE DATA ABOVE THERE ARE THREE COLUMNS- ACTIVITY, BP, HR\n",
    "ACTIVITY GIVES US THE TYPE OF POSITION NAMELY...0- STANDING 1- WALKING 2- SITTING 3- FALLING 4- CRAMPS 5- RUNNING"
   ]
  },
  {
   "cell_type": "code",
   "execution_count": 94,
   "metadata": {},
   "outputs": [],
   "source": [
    "# Sorting out the data into training and test data in a 7:3 ratio.\n",
    "train_y = data[\"ACTIVITY\"]\n",
    "train_x = data.drop([\"ACTIVITY\"],axis =1)\n",
    "x_train,x_test,y_train,y_test = train_test_split(train_x,train_y,test_size=0.3,random_state=21)"
   ]
  },
  {
   "cell_type": "code",
   "execution_count": 95,
   "metadata": {},
   "outputs": [],
   "source": [
    "# Initializing the Random Forest Classifier with 100 estimators\n",
    "forest = RandomForestClassifier(n_estimators=100, criterion='entropy', random_state=20)"
   ]
  },
  {
   "cell_type": "code",
   "execution_count": 96,
   "metadata": {},
   "outputs": [
    {
     "data": {
      "text/plain": [
       "RandomForestClassifier(bootstrap=True, class_weight=None, criterion='entropy',\n",
       "            max_depth=None, max_features='auto', max_leaf_nodes=None,\n",
       "            min_impurity_decrease=0.0, min_impurity_split=None,\n",
       "            min_samples_leaf=1, min_samples_split=2,\n",
       "            min_weight_fraction_leaf=0.0, n_estimators=100, n_jobs=None,\n",
       "            oob_score=False, random_state=20, verbose=0, warm_start=False)"
      ]
     },
     "execution_count": 96,
     "metadata": {},
     "output_type": "execute_result"
    }
   ],
   "source": [
    "# Letting the model train.\n",
    "forest.fit(x_train,y_train)"
   ]
  },
  {
   "cell_type": "code",
   "execution_count": 97,
   "metadata": {},
   "outputs": [],
   "source": [
    "# Predicting the value of the test dataset and saving the model.\n",
    "filename = 'Finalizedmodel.sav'\n",
    "pickle.dump(forest, open(filename, 'wb'))\n",
    "y_predict = forest.predict(x_test)"
   ]
  },
  {
   "cell_type": "code",
   "execution_count": 98,
   "metadata": {},
   "outputs": [
    {
     "data": {
      "text/plain": [
       "0.7072227873855544"
      ]
     },
     "execution_count": 98,
     "metadata": {},
     "output_type": "execute_result"
    }
   ],
   "source": [
    "# Calculating the accuracy of the predicted values.\n",
    "accuracy_score(y_test, y_predict)"
   ]
  },
  {
   "cell_type": "markdown",
   "metadata": {},
   "source": [
    "SEGREGATING INCOMING DATA."
   ]
  },
  {
   "cell_type": "code",
   "execution_count": 99,
   "metadata": {},
   "outputs": [],
   "source": [
    "# Segregating the data depending on the type of activity.\n",
    "stan = data[data[\"ACTIVITY\"]==0]\n",
    "walk = data[data[\"ACTIVITY\"]==1]\n",
    "sit = data[data[\"ACTIVITY\"]==2]\n",
    "fall = data[data[\"ACTIVITY\"]==3]\n",
    "cramp = data[data[\"ACTIVITY\"]==4]\n",
    "run = data[data[\"ACTIVITY\"]==5]"
   ]
  },
  {
   "cell_type": "code",
   "execution_count": 100,
   "metadata": {},
   "outputs": [],
   "source": [
    "#Getting avg values for Circulation.\n",
    "stan_mean_C = np.mean(stan[\"CIRCLUATION\"])\n",
    "walk_mean_C = np.mean(walk[\"CIRCLUATION\"])\n",
    "sit_mean_C = np.mean(sit[\"CIRCLUATION\"])\n",
    "fall_mean_C = np.mean(fall[\"CIRCLUATION\"])\n",
    "cramp_mean_C = np.mean(cramp[\"CIRCLUATION\"])\n",
    "run_mean_C = np.mean(run[\"CIRCLUATION\"])"
   ]
  },
  {
   "cell_type": "code",
   "execution_count": 101,
   "metadata": {},
   "outputs": [
    {
     "data": {
      "text/plain": [
       "array([0])"
      ]
     },
     "execution_count": 101,
     "metadata": {},
     "output_type": "execute_result"
    }
   ],
   "source": [
    "# GET THE VALUES FROM THE WEARABLE SERVER.\n",
    "# SAY FOR EXAMPLE THE VALUES RECEIVED ARE 50,122, FOR BLOOD PRESSURE AND HEART RATE RESPECTIVELY.\n",
    "# WE JUST IMPORT BACK THE MODEL, PREDICT THE CLASS USING THIS VALUE AND THEN SEND BACK AN ALERT RESPONSE.\n",
    "\n",
    "test = [[50,122,311]]\n",
    "forest.predict(test)"
   ]
  },
  {
   "cell_type": "markdown",
   "metadata": {},
   "source": [
    "IF THE PREDICTED VALUE IS 3 - RESEMBLING THE ACTION OF FALLING, AN ALERT MESSAGE WILL BE SENT BACK TO THE SERVER AND INTO THE WEARABLE."
   ]
  }
 ],
 "metadata": {
  "kernelspec": {
   "display_name": "Python 3",
   "language": "python",
   "name": "python3"
  },
  "language_info": {
   "codemirror_mode": {
    "name": "ipython",
    "version": 3
   },
   "file_extension": ".py",
   "mimetype": "text/x-python",
   "name": "python",
   "nbconvert_exporter": "python",
   "pygments_lexer": "ipython3",
   "version": "3.6.5"
  }
 },
 "nbformat": 4,
 "nbformat_minor": 2
}
